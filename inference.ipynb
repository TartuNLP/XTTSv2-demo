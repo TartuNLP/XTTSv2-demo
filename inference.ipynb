{
 "cells": [
  {
   "cell_type": "code",
   "execution_count": null,
   "id": "eed1eec2",
   "metadata": {},
   "outputs": [],
   "source": [
    "text = \"Tere, tore maailm!\"\n",
    "language = \"et\"\n",
    "reference_clip = \"LJ001-0030.wav\"\n",
    "file_output = True\n",
    "output_file_name = text[:15]"
   ]
  },
  {
   "cell_type": "code",
   "execution_count": null,
   "id": "382d6d35",
   "metadata": {},
   "outputs": [],
   "source": [
    "import os\n",
    "from TTS.utils.manage import ModelManager\n",
    "\n",
    "TOKENIZER_FILE_LINK = \"https://huggingface.co/tartuNLP/XTTS-v2-est/resolve/main/vocab.json\"\n",
    "XTTS_CHECKPOINT_LINK = \"https://huggingface.co/tartuNLP/XTTS-v2-est/resolve/main/model.pth\"\n",
    "XTTS_CONFIG_LINK = \"https://huggingface.co/tartuNLP/XTTS-v2-est/resolve/main/config.json\"\n",
    "\n",
    "MODEL_PATH = \"model\"\n",
    "OUTPUT_PATH = \"output\"\n",
    "TOKENIZER_FILE = os.path.join(MODEL_PATH, 'vocab.json')\n",
    "XTTS_CHECKPOINT = os.path.join(MODEL_PATH, 'model.pth')\n",
    "XTTS_CONFIG_FILE = os.path.join(MODEL_PATH, 'config.json')\n",
    "\n",
    "# download model files if needed\n",
    "if not os.path.isfile(TOKENIZER_FILE):\n",
    "    print(\" > Downloading tokenizer!\")\n",
    "    ModelManager._download_model_files(\n",
    "        [TOKENIZER_FILE_LINK], MODEL_PATH, progress_bar=True\n",
    "    )\n",
    "if not os.path.isfile(XTTS_CHECKPOINT):\n",
    "    print(\" > Downloading checkpoint!\")\n",
    "    ModelManager._download_model_files(\n",
    "        [XTTS_CHECKPOINT_LINK], MODEL_PATH, progress_bar=True\n",
    "    )\n",
    "if not os.path.isfile(XTTS_CONFIG_FILE):\n",
    "    print(\" > Downloading config!\")\n",
    "    ModelManager._download_model_files(\n",
    "        [XTTS_CONFIG_LINK], MODEL_PATH, progress_bar=True\n",
    "    )"
   ]
  },
  {
   "cell_type": "code",
   "execution_count": null,
   "id": "035d06f8",
   "metadata": {},
   "outputs": [],
   "source": [
    "import torch\n",
    "device = \"cuda:0\" if torch.cuda.is_available() else \"cpu\"\n",
    "\n",
    "from TTS.tts.configs.xtts_config import XttsConfig\n",
    "from TTS.tts.models.xtts import Xtts\n",
    "\n",
    "def load_model():\n",
    "    config = XttsConfig()\n",
    "    config.load_json(XTTS_CONFIG_FILE)\n",
    "    XTTS_MODEL = Xtts.init_from_config(config)\n",
    "    XTTS_MODEL.load_checkpoint(config, checkpoint_path=XTTS_CHECKPOINT, vocab_path=TOKENIZER_FILE, use_deepspeed=False)\n",
    "    XTTS_MODEL.to(device)\n",
    "    return XTTS_MODEL\n",
    "\n",
    "model = load_model()"
   ]
  },
  {
   "cell_type": "code",
   "execution_count": null,
   "id": "56bd15c0",
   "metadata": {},
   "outputs": [],
   "source": [
    "def synthesis(text, language):\n",
    "    gpt_cond_latent, speaker_embedding = model.get_conditioning_latents(\n",
    "        audio_path=reference_clip,\n",
    "        gpt_cond_len=model.config.gpt_cond_len,\n",
    "        max_ref_length=model.config.max_ref_len,\n",
    "        sound_norm_refs=model.config.sound_norm_refs,\n",
    "    )\n",
    "\n",
    "    wav_chunks = []\n",
    "    for chunk in model.inference_stream(\n",
    "        text=text,\n",
    "        language=language,\n",
    "        gpt_cond_latent=gpt_cond_latent,\n",
    "        speaker_embedding=speaker_embedding,\n",
    "        temperature=0.1,\n",
    "        length_penalty=1.0,\n",
    "        repetition_penalty=10.0,\n",
    "        top_k=10,\n",
    "        top_p=0.3,\n",
    "    ):\n",
    "        if chunk is not None:\n",
    "            wav_chunks.append(chunk)\n",
    "    \n",
    "    audio = torch.cat(wav_chunks, dim=0).unsqueeze(0)[0].numpy()\n",
    "\n",
    "    if file_output:\n",
    "        from scipy.io.wavfile import write\n",
    "        write(os.path.join(OUTPUT_PATH, output_file_name + '.wav'), 22050, audio)\n",
    "    \n",
    "    return audio"
   ]
  },
  {
   "cell_type": "code",
   "execution_count": null,
   "id": "5a38c39b",
   "metadata": {},
   "outputs": [],
   "source": [
    "from IPython.display import Audio, display\n",
    "print(text)\n",
    "display(Audio(synthesis(text, language), rate=22050))"
   ]
  }
 ],
 "metadata": {
  "kernelspec": {
   "display_name": "xtts-ft",
   "language": "python",
   "name": "python3"
  },
  "language_info": {
   "codemirror_mode": {
    "name": "ipython",
    "version": 3
   },
   "file_extension": ".py",
   "mimetype": "text/x-python",
   "name": "python",
   "nbconvert_exporter": "python",
   "pygments_lexer": "ipython3",
   "version": "3.11.11"
  }
 },
 "nbformat": 4,
 "nbformat_minor": 5
}
